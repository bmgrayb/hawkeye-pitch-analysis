{
 "cells": [
  {
   "cell_type": "code",
   "execution_count": 1,
   "metadata": {},
   "outputs": [],
   "source": [
    "import numpy as np\n",
    "import os\n",
    "from os import listdir\n",
    "from os.path import isfile, join\n",
    "import pandas as pd\n",
    "pd.options.mode.chained_assignment = None\n",
    "from pitch_path.processing.data_processing import PitcherDataProcessor\n",
    "import logging\n",
    "import sys\n",
    "from scipy.spatial import distance\n",
    "logger = logging.getLogger()\n",
    "logging.basicConfig(stream=sys.stdout, level=logging.INFO)"
   ]
  },
  {
   "cell_type": "code",
   "execution_count": 2,
   "metadata": {},
   "outputs": [],
   "source": [
    "data = \"../data\"\n",
    "inputs = f\"{data}/output/processed\"\n",
    "pitcher_files = [join(inputs, f) for f in listdir(inputs) if isfile(join(inputs, f))]"
   ]
  },
  {
   "cell_type": "code",
   "execution_count": 3,
   "metadata": {},
   "outputs": [
    {
     "name": "stdout",
     "output_type": "stream",
     "text": [
      "INFO:pitch_path.utils.data_processing:Initializing from processed pitcher file: ../data/output/processed/sched_id429650_pitcher680689\n",
      "INFO:pitch_path.utils.data_processing:File name: ../data/output/processed/sched_id429650_pitcher680689\n",
      "INFO:pitch_path.utils.data_processing:Pitcher id: 680689\n",
      "INFO:pitch_path.utils.data_processing:Sched id: 429650\n",
      "INFO:pitch_path.utils.data_processing:Throws: R\n",
      "INFO:pitch_path.utils.data_processing:Front Leg: l\n",
      "INFO:pitch_path.utils.data_processing:Finished processing.....\n"
     ]
    }
   ],
   "source": [
    "ppd = PitcherDataProcessor(file_name=pitcher_files[0], is_processed_file=True)"
   ]
  },
  {
   "cell_type": "code",
   "execution_count": 4,
   "metadata": {},
   "outputs": [],
   "source": [
    "df = ppd.get_pitcher_df()"
   ]
  },
  {
   "cell_type": "markdown",
   "metadata": {},
   "source": [
    "# Exploring some features"
   ]
  },
  {
   "cell_type": "markdown",
   "metadata": {},
   "source": [
    "### Velocity and Distance"
   ]
  },
  {
   "cell_type": "code",
   "execution_count": 5,
   "metadata": {},
   "outputs": [],
   "source": [
    "p1 = df[df['astros_pitch_id'] == 1]"
   ]
  },
  {
   "cell_type": "code",
   "execution_count": 6,
   "metadata": {},
   "outputs": [],
   "source": [
    "wrist_cols = [x for x in p1.columns if f\"wrist\" in x]\n",
    "prev_wrist_cols = [f\"prev_{x}\" for x in wrist_cols]\n",
    "cols_to_shift = wrist_cols + ['time']"
   ]
  },
  {
   "cell_type": "code",
   "execution_count": 7,
   "metadata": {},
   "outputs": [
    {
     "data": {
      "text/plain": [
       "[[-1.0854, 60.3719, 5.1761]]"
      ]
     },
     "execution_count": 7,
     "metadata": {},
     "output_type": "execute_result"
    }
   ],
   "source": [
    "[p1.loc[0, wrist_cols].to_list()]"
   ]
  },
  {
   "cell_type": "code",
   "execution_count": 8,
   "metadata": {},
   "outputs": [
    {
     "data": {
      "text/plain": [
       "array([[0.01948551]])"
      ]
     },
     "execution_count": 8,
     "metadata": {},
     "output_type": "execute_result"
    }
   ],
   "source": [
    "distance.cdist([p1.loc[0, wrist_cols].to_list()], [p1.loc[1, wrist_cols].to_list()], 'euclidean')"
   ]
  },
  {
   "cell_type": "code",
   "execution_count": 9,
   "metadata": {},
   "outputs": [],
   "source": [
    "for col in cols_to_shift:\n",
    "    p1[f\"prev_{col}\"] = p1[col].shift(1)"
   ]
  },
  {
   "cell_type": "code",
   "execution_count": 10,
   "metadata": {},
   "outputs": [],
   "source": [
    "p1['distance_to_prev'] = p1.apply(lambda x: 0 if np.isnan(x['prev_wrist_x'])\n",
    "                                  else distance.cdist([x[wrist_cols].to_list()], [x[prev_wrist_cols].to_list()], 'euclidean')[0][0], axis=1)"
   ]
  },
  {
   "cell_type": "code",
   "execution_count": 11,
   "metadata": {},
   "outputs": [],
   "source": [
    "p1['get_avg_velocity'] = p1.apply(lambda x: x['distance_to_prev']/(x['time'] - x['prev_time']), axis=1)"
   ]
  },
  {
   "cell_type": "markdown",
   "metadata": {},
   "source": [
    "## Arm Angle"
   ]
  },
  {
   "cell_type": "code",
   "execution_count": null,
   "metadata": {},
   "outputs": [],
   "source": []
  },
  {
   "cell_type": "markdown",
   "metadata": {},
   "source": [
    "## Features location at time"
   ]
  },
  {
   "cell_type": "code",
   "execution_count": 12,
   "metadata": {},
   "outputs": [],
   "source": [
    "def get_col_values_at_time(df: pd.DataFrame, time_col: str, joint_loc_cols: list) -> pd.DataFrame:\n",
    "    loc_df = df.loc[df[time_col] == 1, joint_loc_cols].reset_index().drop(columns=['index'])\n",
    "    loc_df.columns = [f\"{x}_{time_col}\" for x in loc_df.columns]\n",
    "    return loc_df"
   ]
  },
  {
   "cell_type": "code",
   "execution_count": 13,
   "metadata": {},
   "outputs": [],
   "source": [
    "p1 = df[df['astros_pitch_id'] == 1]\n",
    "wrist_cols = [x for x in p1.columns if f\"wrist\" in x]"
   ]
  },
  {
   "cell_type": "code",
   "execution_count": 14,
   "metadata": {},
   "outputs": [
    {
     "data": {
      "text/html": [
       "<div>\n",
       "<style scoped>\n",
       "    .dataframe tbody tr th:only-of-type {\n",
       "        vertical-align: middle;\n",
       "    }\n",
       "\n",
       "    .dataframe tbody tr th {\n",
       "        vertical-align: top;\n",
       "    }\n",
       "\n",
       "    .dataframe thead th {\n",
       "        text-align: right;\n",
       "    }\n",
       "</style>\n",
       "<table border=\"1\" class=\"dataframe\">\n",
       "  <thead>\n",
       "    <tr style=\"text-align: right;\">\n",
       "      <th></th>\n",
       "      <th>astros_pitch_id</th>\n",
       "      <th>sched_id</th>\n",
       "      <th>pitcher_id</th>\n",
       "      <th>bats</th>\n",
       "      <th>throws</th>\n",
       "      <th>time</th>\n",
       "      <th>shoulder_x</th>\n",
       "      <th>shoulder_y</th>\n",
       "      <th>shoulder_z</th>\n",
       "      <th>elbow_x</th>\n",
       "      <th>...</th>\n",
       "      <th>wrist_y</th>\n",
       "      <th>wrist_z</th>\n",
       "      <th>knee_x</th>\n",
       "      <th>knee_y</th>\n",
       "      <th>knee_z</th>\n",
       "      <th>start</th>\n",
       "      <th>release</th>\n",
       "      <th>time_25</th>\n",
       "      <th>time_5</th>\n",
       "      <th>time_75</th>\n",
       "    </tr>\n",
       "  </thead>\n",
       "  <tbody>\n",
       "    <tr>\n",
       "      <th>0</th>\n",
       "      <td>1</td>\n",
       "      <td>429650</td>\n",
       "      <td>680689</td>\n",
       "      <td>L</td>\n",
       "      <td>R</td>\n",
       "      <td>-1.016</td>\n",
       "      <td>-0.2081</td>\n",
       "      <td>60.561501</td>\n",
       "      <td>5.9219</td>\n",
       "      <td>-0.4616</td>\n",
       "      <td>...</td>\n",
       "      <td>60.371899</td>\n",
       "      <td>5.1761</td>\n",
       "      <td>-1.0037</td>\n",
       "      <td>59.581402</td>\n",
       "      <td>3.0212</td>\n",
       "      <td>1.0</td>\n",
       "      <td>0</td>\n",
       "      <td>0</td>\n",
       "      <td>0</td>\n",
       "      <td>0</td>\n",
       "    </tr>\n",
       "    <tr>\n",
       "      <th>1</th>\n",
       "      <td>1</td>\n",
       "      <td>429650</td>\n",
       "      <td>680689</td>\n",
       "      <td>L</td>\n",
       "      <td>R</td>\n",
       "      <td>-1.013</td>\n",
       "      <td>-0.2056</td>\n",
       "      <td>60.560799</td>\n",
       "      <td>5.9250</td>\n",
       "      <td>-0.4618</td>\n",
       "      <td>...</td>\n",
       "      <td>60.388000</td>\n",
       "      <td>5.1865</td>\n",
       "      <td>-1.0312</td>\n",
       "      <td>59.582802</td>\n",
       "      <td>3.0469</td>\n",
       "      <td>0.0</td>\n",
       "      <td>0</td>\n",
       "      <td>0</td>\n",
       "      <td>0</td>\n",
       "      <td>0</td>\n",
       "    </tr>\n",
       "    <tr>\n",
       "      <th>2</th>\n",
       "      <td>1</td>\n",
       "      <td>429650</td>\n",
       "      <td>680689</td>\n",
       "      <td>L</td>\n",
       "      <td>R</td>\n",
       "      <td>-1.010</td>\n",
       "      <td>-0.1998</td>\n",
       "      <td>60.558701</td>\n",
       "      <td>5.9270</td>\n",
       "      <td>-0.4661</td>\n",
       "      <td>...</td>\n",
       "      <td>60.402802</td>\n",
       "      <td>5.1984</td>\n",
       "      <td>-1.0579</td>\n",
       "      <td>59.584702</td>\n",
       "      <td>3.0722</td>\n",
       "      <td>0.0</td>\n",
       "      <td>0</td>\n",
       "      <td>0</td>\n",
       "      <td>0</td>\n",
       "      <td>0</td>\n",
       "    </tr>\n",
       "    <tr>\n",
       "      <th>3</th>\n",
       "      <td>1</td>\n",
       "      <td>429650</td>\n",
       "      <td>680689</td>\n",
       "      <td>L</td>\n",
       "      <td>R</td>\n",
       "      <td>-1.006</td>\n",
       "      <td>-0.1964</td>\n",
       "      <td>60.556000</td>\n",
       "      <td>5.9280</td>\n",
       "      <td>-0.4733</td>\n",
       "      <td>...</td>\n",
       "      <td>60.414101</td>\n",
       "      <td>5.2146</td>\n",
       "      <td>-1.0854</td>\n",
       "      <td>59.582802</td>\n",
       "      <td>3.0984</td>\n",
       "      <td>0.0</td>\n",
       "      <td>0</td>\n",
       "      <td>0</td>\n",
       "      <td>0</td>\n",
       "      <td>0</td>\n",
       "    </tr>\n",
       "    <tr>\n",
       "      <th>4</th>\n",
       "      <td>1</td>\n",
       "      <td>429650</td>\n",
       "      <td>680689</td>\n",
       "      <td>L</td>\n",
       "      <td>R</td>\n",
       "      <td>-1.003</td>\n",
       "      <td>-0.1956</td>\n",
       "      <td>60.553101</td>\n",
       "      <td>5.9301</td>\n",
       "      <td>-0.4789</td>\n",
       "      <td>...</td>\n",
       "      <td>60.420300</td>\n",
       "      <td>5.2253</td>\n",
       "      <td>-1.1095</td>\n",
       "      <td>59.580601</td>\n",
       "      <td>3.1239</td>\n",
       "      <td>0.0</td>\n",
       "      <td>0</td>\n",
       "      <td>0</td>\n",
       "      <td>0</td>\n",
       "      <td>0</td>\n",
       "    </tr>\n",
       "  </tbody>\n",
       "</table>\n",
       "<p>5 rows × 23 columns</p>\n",
       "</div>"
      ],
      "text/plain": [
       "   astros_pitch_id  sched_id  pitcher_id bats throws   time  shoulder_x  \\\n",
       "0                1    429650      680689    L      R -1.016     -0.2081   \n",
       "1                1    429650      680689    L      R -1.013     -0.2056   \n",
       "2                1    429650      680689    L      R -1.010     -0.1998   \n",
       "3                1    429650      680689    L      R -1.006     -0.1964   \n",
       "4                1    429650      680689    L      R -1.003     -0.1956   \n",
       "\n",
       "   shoulder_y  shoulder_z  elbow_x  ...    wrist_y  wrist_z  knee_x  \\\n",
       "0   60.561501      5.9219  -0.4616  ...  60.371899   5.1761 -1.0037   \n",
       "1   60.560799      5.9250  -0.4618  ...  60.388000   5.1865 -1.0312   \n",
       "2   60.558701      5.9270  -0.4661  ...  60.402802   5.1984 -1.0579   \n",
       "3   60.556000      5.9280  -0.4733  ...  60.414101   5.2146 -1.0854   \n",
       "4   60.553101      5.9301  -0.4789  ...  60.420300   5.2253 -1.1095   \n",
       "\n",
       "      knee_y  knee_z  start  release  time_25  time_5  time_75  \n",
       "0  59.581402  3.0212    1.0        0        0       0        0  \n",
       "1  59.582802  3.0469    0.0        0        0       0        0  \n",
       "2  59.584702  3.0722    0.0        0        0       0        0  \n",
       "3  59.582802  3.0984    0.0        0        0       0        0  \n",
       "4  59.580601  3.1239    0.0        0        0       0        0  \n",
       "\n",
       "[5 rows x 23 columns]"
      ]
     },
     "execution_count": 14,
     "metadata": {},
     "output_type": "execute_result"
    }
   ],
   "source": [
    "p1.head()"
   ]
  },
  {
   "cell_type": "code",
   "execution_count": 15,
   "metadata": {},
   "outputs": [],
   "source": [
    "wrist_start = get_col_values_at_time(p1, 'start', wrist_cols)\n",
    "wrist_25 = get_col_values_at_time(p1, 'time_25', wrist_cols)\n",
    "wrist_5 = get_col_values_at_time(p1, 'time_5', wrist_cols)\n",
    "wrist_75 = get_col_values_at_time(p1, 'time_75', wrist_cols)\n",
    "wrist_release = get_col_values_at_time(p1, 'release', wrist_cols)"
   ]
  },
  {
   "cell_type": "markdown",
   "metadata": {},
   "source": [
    "## Merge all Feature DFs together\n",
    "merge DFs together to get a singular feature row per pitch"
   ]
  },
  {
   "cell_type": "code",
   "execution_count": 16,
   "metadata": {},
   "outputs": [],
   "source": [
    "pitch_feature = pd.merge(wrist_start, wrist_25, how='cross')\\\n",
    "    .merge(wrist_5, how='cross')\\\n",
    "    .merge(wrist_75, how='cross')\\\n",
    "    .merge(wrist_release, how='cross')\n",
    "pitch_feature['pitcher_id'] = ppd.pitcher_id\n",
    "pitch_feature['sched_id'] = ppd.sched_id\n",
    "pitch_feature['astros_pitch_id'] = p1.astros_pitch_id.unique()[0]"
   ]
  },
  {
   "cell_type": "code",
   "execution_count": 17,
   "metadata": {},
   "outputs": [
    {
     "data": {
      "text/html": [
       "<div>\n",
       "<style scoped>\n",
       "    .dataframe tbody tr th:only-of-type {\n",
       "        vertical-align: middle;\n",
       "    }\n",
       "\n",
       "    .dataframe tbody tr th {\n",
       "        vertical-align: top;\n",
       "    }\n",
       "\n",
       "    .dataframe thead th {\n",
       "        text-align: right;\n",
       "    }\n",
       "</style>\n",
       "<table border=\"1\" class=\"dataframe\">\n",
       "  <thead>\n",
       "    <tr style=\"text-align: right;\">\n",
       "      <th></th>\n",
       "      <th>wrist_x_start</th>\n",
       "      <th>wrist_y_start</th>\n",
       "      <th>wrist_z_start</th>\n",
       "      <th>wrist_x_time_25</th>\n",
       "      <th>wrist_y_time_25</th>\n",
       "      <th>wrist_z_time_25</th>\n",
       "      <th>wrist_x_time_5</th>\n",
       "      <th>wrist_y_time_5</th>\n",
       "      <th>wrist_z_time_5</th>\n",
       "      <th>wrist_x_time_75</th>\n",
       "      <th>wrist_y_time_75</th>\n",
       "      <th>wrist_z_time_75</th>\n",
       "      <th>wrist_x_release</th>\n",
       "      <th>wrist_y_release</th>\n",
       "      <th>wrist_z_release</th>\n",
       "      <th>pitcher_id</th>\n",
       "      <th>sched_id</th>\n",
       "      <th>astros_pitch_id</th>\n",
       "    </tr>\n",
       "  </thead>\n",
       "  <tbody>\n",
       "    <tr>\n",
       "      <th>0</th>\n",
       "      <td>-1.0854</td>\n",
       "      <td>60.371899</td>\n",
       "      <td>5.1761</td>\n",
       "      <td>-1.2036</td>\n",
       "      <td>60.391399</td>\n",
       "      <td>5.6939</td>\n",
       "      <td>-0.9734</td>\n",
       "      <td>60.0471</td>\n",
       "      <td>5.0402</td>\n",
       "      <td>0.642</td>\n",
       "      <td>60.049599</td>\n",
       "      <td>4.2122</td>\n",
       "      <td>-1.4514</td>\n",
       "      <td>54.180801</td>\n",
       "      <td>4.6715</td>\n",
       "      <td>680689</td>\n",
       "      <td>429650</td>\n",
       "      <td>1</td>\n",
       "    </tr>\n",
       "  </tbody>\n",
       "</table>\n",
       "</div>"
      ],
      "text/plain": [
       "   wrist_x_start  wrist_y_start  wrist_z_start  wrist_x_time_25  \\\n",
       "0        -1.0854      60.371899         5.1761          -1.2036   \n",
       "\n",
       "   wrist_y_time_25  wrist_z_time_25  wrist_x_time_5  wrist_y_time_5  \\\n",
       "0        60.391399           5.6939         -0.9734         60.0471   \n",
       "\n",
       "   wrist_z_time_5  wrist_x_time_75  wrist_y_time_75  wrist_z_time_75  \\\n",
       "0          5.0402            0.642        60.049599           4.2122   \n",
       "\n",
       "   wrist_x_release  wrist_y_release  wrist_z_release  pitcher_id  sched_id  \\\n",
       "0          -1.4514        54.180801           4.6715      680689    429650   \n",
       "\n",
       "   astros_pitch_id  \n",
       "0                1  "
      ]
     },
     "execution_count": 17,
     "metadata": {},
     "output_type": "execute_result"
    }
   ],
   "source": [
    "pitch_feature.head()"
   ]
  },
  {
   "cell_type": "markdown",
   "metadata": {},
   "source": [
    "## Generate all features for df"
   ]
  },
  {
   "cell_type": "code",
   "execution_count": 18,
   "metadata": {},
   "outputs": [],
   "source": [
    "import pitch_path.utils.features as feat"
   ]
  },
  {
   "cell_type": "code",
   "execution_count": 19,
   "metadata": {},
   "outputs": [
    {
     "name": "stdout",
     "output_type": "stream",
     "text": [
      "INFO:pitch_path.utils.data_processing:Initializing from processed pitcher file: ../data/output/processed/sched_id429650_pitcher680689\n",
      "INFO:pitch_path.utils.data_processing:File name: ../data/output/processed/sched_id429650_pitcher680689\n",
      "INFO:pitch_path.utils.data_processing:Pitcher id: 680689\n",
      "INFO:pitch_path.utils.data_processing:Sched id: 429650\n",
      "INFO:pitch_path.utils.data_processing:Throws: R\n",
      "INFO:pitch_path.utils.data_processing:Front Leg: l\n",
      "INFO:pitch_path.utils.data_processing:Finished processing.....\n"
     ]
    }
   ],
   "source": [
    "ppd = PitcherDataProcessor(file_name=pitcher_files[0], is_processed_file=True)\n",
    "df = ppd.get_pitcher_df()\n",
    "p1 = df[df['astros_pitch_id'] == 1]"
   ]
  },
  {
   "cell_type": "code",
   "execution_count": 20,
   "metadata": {},
   "outputs": [],
   "source": [
    "wrist_cols = [x for x in df.columns if f\"wrist\" in x]\n",
    "prev_wrist_cols = [f\"prev_{x}\" for x in wrist_cols]\n",
    "cols_to_shift = wrist_cols + ['time']"
   ]
  },
  {
   "cell_type": "code",
   "execution_count": 21,
   "metadata": {},
   "outputs": [],
   "source": [
    "for col in cols_to_shift:\n",
    "    p1[f\"prev_{col}\"] = p1[col].shift(1)"
   ]
  },
  {
   "cell_type": "code",
   "execution_count": null,
   "metadata": {},
   "outputs": [],
   "source": []
  }
 ],
 "metadata": {
  "kernelspec": {
   "display_name": "astros",
   "language": "python",
   "name": "python3"
  },
  "language_info": {
   "codemirror_mode": {
    "name": "ipython",
    "version": 3
   },
   "file_extension": ".py",
   "mimetype": "text/x-python",
   "name": "python",
   "nbconvert_exporter": "python",
   "pygments_lexer": "ipython3",
   "version": "3.9.19"
  }
 },
 "nbformat": 4,
 "nbformat_minor": 2
}
